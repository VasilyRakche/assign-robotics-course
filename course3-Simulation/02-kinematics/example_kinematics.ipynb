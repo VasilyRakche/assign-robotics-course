{
 "cells": [
  {
   "cell_type": "code",
   "execution_count": 1,
   "metadata": {},
   "outputs": [
    {
     "name": "stdout",
     "output_type": "stream",
     "text": [
      "**ry-c++-log** ry.cpp:init_LogToPythonConsole:34(0) initializing ry log callback\n",
      "\n",
      "**ry-c++-log** util.cpp:initCmdLine:545(1) ** cmd line arguments: 'rai-pybind -python '\n",
      "** INFO:ry.cpp:init_LogToPythonConsole:34(0) initializing ry log callback\n",
      "\n",
      "**ry-c++-log** util.cpp:initCmdLine:549(1) ** run path: '/home/vasko/Documents/TUB3/AI_Robotics/robotics-course/course3-Simulation/02-kinematics'\n",
      "** INFO:util.cpp:initCmdLine:545(1) ** cmd line arguments: 'rai-pybind -python '\n",
      "\n",
      "**ry-c++-log** graph.cpp:initParameters:1379(1) ** parsed parameters:\n",
      "{python}\n",
      "\n",
      "** INFO:util.cpp:initCmdLine:549(1) ** run path: '/home/vasko/Documents/TUB3/AI_Robotics/robotics-course/course3-Simulation/02-kinematics'\n",
      "\n",
      "** INFO:graph.cpp:initParameters:1379(1) ** parsed parameters:\n",
      "{python}\n",
      "\n"
     ]
    }
   ],
   "source": [
    "import numpy as np\n",
    "import sys\n",
    "sys.path.append('../../build')\n",
    "import libry as ry\n",
    "import time"
   ]
  },
  {
   "cell_type": "code",
   "execution_count": 2,
   "metadata": {},
   "outputs": [],
   "source": [
    "C = ry.Config()\n",
    "C.addFile(\"myRobot.g\")\n",
    "D = C.view()\n",
    "q0 = np.array([45, 80, -80])/180*np.pi\n",
    "C.setJointState(q0)\n",
    "\n",
    "C.frame(\"link3\").setColor([1,1,1,.7])\n",
    "\n",
    "test = C.addFrame(\"test\")\n",
    "test.setShape(ry.ST.sphere, [0.1])\n",
    "test.setColor([1, 0, 0])\n",
    "test.setPosition([0,0,1])"
   ]
  },
  {
   "cell_type": "code",
   "execution_count": 3,
   "metadata": {
    "tags": []
   },
   "outputs": [
    {
     "name": "stdout",
     "output_type": "stream",
     "text": [
      "phi error:  4.440892098500626e-16\n",
      "J error:  2.3245294578089215e-16\n",
      "d\n",
      "phi error:  8.881784197001252e-16\n",
      "J error:  8.881784197001252e-16\n",
      "d\n",
      "phi error:  4.440892098500626e-16\n",
      "J error:  4.440892098500626e-16\n",
      "d\n",
      "phi error:  8.881784197001252e-16\n",
      "J error:  8.881784197001252e-16\n",
      "s\n",
      "phi error:  1.1102230246251565e-16\n",
      "J error:  1.1102230246251565e-16\n",
      "q\n",
      "phi error:  4.440892098500626e-16\n",
      "J error:  5.551115123125783e-16\n",
      "q\n",
      "phi error:  4.440892098500626e-16\n",
      "J error:  4.440892098500626e-16\n",
      "q\n",
      "phi error:  4.440892098500626e-16\n",
      "J error:  4.440892098500626e-16\n",
      "q\n",
      "phi error:  4.440892098500626e-16\n",
      "J error:  6.661338147750939e-16\n"
     ]
    },
    {
     "ename": "KeyboardInterrupt",
     "evalue": "Interrupted by user",
     "output_type": "error",
     "traceback": [
      "\u001b[0;31m---------------------------------------------------------------------------\u001b[0m",
      "\u001b[0;31mKeyboardInterrupt\u001b[0m                         Traceback (most recent call last)",
      "Input \u001b[0;32mIn [3]\u001b[0m, in \u001b[0;36m<cell line: 1>\u001b[0;34m()\u001b[0m\n\u001b[1;32m     25\u001b[0m diff_J \u001b[38;5;241m=\u001b[39m J_computed \u001b[38;5;241m-\u001b[39m J\n\u001b[1;32m     26\u001b[0m \u001b[38;5;28mprint\u001b[39m(\u001b[38;5;124m'\u001b[39m\u001b[38;5;124mJ error: \u001b[39m\u001b[38;5;124m'\u001b[39m, np\u001b[38;5;241m.\u001b[39mabs(diff_J)\u001b[38;5;241m.\u001b[39mmax())\n\u001b[0;32m---> 27\u001b[0m \u001b[38;5;28;43minput\u001b[39;49m\u001b[43m(\u001b[49m\u001b[43m)\u001b[49m\n",
      "File \u001b[0;32m~/.local/lib/python3.8/site-packages/ipykernel/kernelbase.py:1161\u001b[0m, in \u001b[0;36mKernel.raw_input\u001b[0;34m(self, prompt)\u001b[0m\n\u001b[1;32m   1157\u001b[0m \u001b[38;5;28;01mif\u001b[39;00m \u001b[38;5;129;01mnot\u001b[39;00m \u001b[38;5;28mself\u001b[39m\u001b[38;5;241m.\u001b[39m_allow_stdin:\n\u001b[1;32m   1158\u001b[0m     \u001b[38;5;28;01mraise\u001b[39;00m StdinNotImplementedError(\n\u001b[1;32m   1159\u001b[0m         \u001b[38;5;124m\"\u001b[39m\u001b[38;5;124mraw_input was called, but this frontend does not support input requests.\u001b[39m\u001b[38;5;124m\"\u001b[39m\n\u001b[1;32m   1160\u001b[0m     )\n\u001b[0;32m-> 1161\u001b[0m \u001b[38;5;28;01mreturn\u001b[39;00m \u001b[38;5;28;43mself\u001b[39;49m\u001b[38;5;241;43m.\u001b[39;49m\u001b[43m_input_request\u001b[49m\u001b[43m(\u001b[49m\n\u001b[1;32m   1162\u001b[0m \u001b[43m    \u001b[49m\u001b[38;5;28;43mstr\u001b[39;49m\u001b[43m(\u001b[49m\u001b[43mprompt\u001b[49m\u001b[43m)\u001b[49m\u001b[43m,\u001b[49m\n\u001b[1;32m   1163\u001b[0m \u001b[43m    \u001b[49m\u001b[38;5;28;43mself\u001b[39;49m\u001b[38;5;241;43m.\u001b[39;49m\u001b[43m_parent_ident\u001b[49m\u001b[43m[\u001b[49m\u001b[38;5;124;43m\"\u001b[39;49m\u001b[38;5;124;43mshell\u001b[39;49m\u001b[38;5;124;43m\"\u001b[39;49m\u001b[43m]\u001b[49m\u001b[43m,\u001b[49m\n\u001b[1;32m   1164\u001b[0m \u001b[43m    \u001b[49m\u001b[38;5;28;43mself\u001b[39;49m\u001b[38;5;241;43m.\u001b[39;49m\u001b[43mget_parent\u001b[49m\u001b[43m(\u001b[49m\u001b[38;5;124;43m\"\u001b[39;49m\u001b[38;5;124;43mshell\u001b[39;49m\u001b[38;5;124;43m\"\u001b[39;49m\u001b[43m)\u001b[49m\u001b[43m,\u001b[49m\n\u001b[1;32m   1165\u001b[0m \u001b[43m    \u001b[49m\u001b[43mpassword\u001b[49m\u001b[38;5;241;43m=\u001b[39;49m\u001b[38;5;28;43;01mFalse\u001b[39;49;00m\u001b[43m,\u001b[49m\n\u001b[1;32m   1166\u001b[0m \u001b[43m\u001b[49m\u001b[43m)\u001b[49m\n",
      "File \u001b[0;32m~/.local/lib/python3.8/site-packages/ipykernel/kernelbase.py:1205\u001b[0m, in \u001b[0;36mKernel._input_request\u001b[0;34m(self, prompt, ident, parent, password)\u001b[0m\n\u001b[1;32m   1202\u001b[0m             \u001b[38;5;28;01mbreak\u001b[39;00m\n\u001b[1;32m   1203\u001b[0m \u001b[38;5;28;01mexcept\u001b[39;00m \u001b[38;5;167;01mKeyboardInterrupt\u001b[39;00m:\n\u001b[1;32m   1204\u001b[0m     \u001b[38;5;66;03m# re-raise KeyboardInterrupt, to truncate traceback\u001b[39;00m\n\u001b[0;32m-> 1205\u001b[0m     \u001b[38;5;28;01mraise\u001b[39;00m \u001b[38;5;167;01mKeyboardInterrupt\u001b[39;00m(\u001b[38;5;124m\"\u001b[39m\u001b[38;5;124mInterrupted by user\u001b[39m\u001b[38;5;124m\"\u001b[39m) \u001b[38;5;28;01mfrom\u001b[39;00m \u001b[38;5;28mNone\u001b[39m\n\u001b[1;32m   1206\u001b[0m \u001b[38;5;28;01mexcept\u001b[39;00m \u001b[38;5;167;01mException\u001b[39;00m:\n\u001b[1;32m   1207\u001b[0m     \u001b[38;5;28mself\u001b[39m\u001b[38;5;241m.\u001b[39mlog\u001b[38;5;241m.\u001b[39mwarning(\u001b[38;5;124m\"\u001b[39m\u001b[38;5;124mInvalid Message:\u001b[39m\u001b[38;5;124m\"\u001b[39m, exc_info\u001b[38;5;241m=\u001b[39m\u001b[38;5;28;01mTrue\u001b[39;00m)\n",
      "\u001b[0;31mKeyboardInterrupt\u001b[0m: Interrupted by user"
     ]
    }
   ],
   "source": [
    "for _ in range(10):\n",
    "    q = np.random.rand(3)\n",
    "    C.setJointState(q)\n",
    "\n",
    "    s1, s12, s123 = np.sin(q[0]), np.sin(q[0]+q[1]), np.sin(q[0]+q[1]+q[2])\n",
    "    c1, c12, c123 = np.cos(q[0]), np.cos(q[0]+q[1]), np.cos(q[0]+q[1]+q[2])\n",
    "    \n",
    "    pos_computed = np.array([\n",
    "        s1 + s12 + s123,\n",
    "        0,\n",
    "        1 + c1 + c12 + c123\n",
    "    ])\n",
    "    test.setPosition(pos_computed)\n",
    "    J_computed = np.array([\n",
    "        [c1 + c12 + c123, c12 + c123, c123],\n",
    "        [0, 0, 0],\n",
    "        [-s1 - s12 - s123, -s12 - s123, - s123]\n",
    "    ])\n",
    "    \n",
    "    y, J = C.evalFeature(ry.FS.position, [\"end_effector\"])\n",
    "    \n",
    "    diff_phi = pos_computed - y\n",
    "    print('phi error: ', np.abs(diff_phi).max())\n",
    "    \n",
    "    diff_J = J_computed - J\n",
    "    print('J error: ', np.abs(diff_J).max())\n",
    "    input()\n",
    "    \n",
    "    "
   ]
  },
  {
   "cell_type": "markdown",
   "metadata": {},
   "source": [
    "# Generating motions with feature and pseudoinverse"
   ]
  },
  {
   "cell_type": "code",
   "execution_count": 4,
   "metadata": {},
   "outputs": [],
   "source": [
    "import numpy as np\n",
    "import sys\n",
    "sys.path.append('../../build')\n",
    "import libry as ry\n",
    "import time"
   ]
  },
  {
   "cell_type": "code",
   "execution_count": 5,
   "metadata": {},
   "outputs": [],
   "source": [
    "#-- MODEL WORLD configuration, this is the data structure on which you represent\n",
    "# what you know about the world and compute things (controls, contacts, etc)\n",
    "C = ry.Config()\n",
    "C.addFile(\"../../scenarios/pandasTable.g\")\n",
    "D = C.view()\n",
    "q0 = C.getJointState()"
   ]
  },
  {
   "cell_type": "code",
   "execution_count": 6,
   "metadata": {},
   "outputs": [
    {
     "data": {
      "text/plain": [
       "<libry.Frame at 0x7fe9b4183630>"
      ]
     },
     "execution_count": 6,
     "metadata": {},
     "output_type": "execute_result"
    }
   ],
   "source": [
    "obj = C.addFrame(\"object\")\n",
    "# set frame parameters, associate a shape to the frame, \n",
    "pos_obj = np.array([.5,0,1.5])\n",
    "pos_obj0 = pos_obj.copy()\n",
    "obj.setPosition(pos_obj)\n",
    "obj.setQuaternion([1,0,0,0])\n",
    "obj.setShape(ry.ST.sphere, [.02])\n",
    "obj.setColor([1,0,0])\n",
    "\n",
    "obj"
   ]
  },
  {
   "cell_type": "markdown",
   "metadata": {},
   "source": [
    "## Tracking an object\n",
    "\n",
    "Suppose the feature $\\phi$ is a mapping to the position difference between the gripper and the object (case 1 above). If this feature space is endowed with a stable dynamics, e.g., $$\\dot{y}=-y,$$ corresponding joint motions will let the gripper position to approach to the object (i.e., the position difference converges to 0). The following code exactly does that.\n",
    "\n"
   ]
  },
  {
   "cell_type": "code",
   "execution_count": 7,
   "metadata": {},
   "outputs": [],
   "source": [
    "tau = .01\n",
    "obj.setPosition(pos_obj)\n",
    "C.setJointState(q0)\n",
    "q = C.getJointState()\n",
    "for t in range(1000):\n",
    "    time.sleep(0.01)\n",
    "    \n",
    "    pos_obj[0] = 1 - np.sin(0.01*t) #move the obj for fun!\n",
    "    obj.setPosition(pos_obj)\n",
    "    \n",
    "    [y,J] = C.evalFeature(ry.FS.positionRel, [\"R_gripperCenter\", \"object\"])\n",
    "    vel_ee = -y\n",
    "\n",
    "#     vel = np.linalg.pinv(J) @ vel_ee; #less stable!\n",
    "    vel = np.linalg.inv(J.T@J + 1e-2*np.eye(q.shape[0])) @ J.T @ vel_ee;\n",
    "\n",
    "    q += tau*vel\n",
    "    C.setJointState(q) #set your robot model to match the real q"
   ]
  },
  {
   "cell_type": "code",
   "execution_count": 8,
   "metadata": {},
   "outputs": [],
   "source": [
    "tau = .01\n",
    "C.setJointState(q0)\n",
    "obj.setPosition(pos_obj0)\n",
    "q = C.getJointState()\n",
    "for t in range(1000):\n",
    "    time.sleep(0.01)\n",
    "    pos_obj[0] = 1 - np.sin(0.01*t) #move the obj for fun!\n",
    "    obj.setPosition(pos_obj)\n",
    "    \n",
    "    #evaluate a first feature\n",
    "    [y1,J1] = C.evalFeature(ry.FS.positionRel, [\"R_gripperCenter\", \"object\"])\n",
    "    #you can multiply y1 and J1 here with some number, to adjust the importance of the first feature\n",
    "    c1 = 0.5\n",
    "    y1, J1 = c1*y1, c1*J1\n",
    "    \n",
    "    #evaluate a second feature\n",
    "    [y2,J2] = C.evalFeature(ry.FS.scalarProductXY, [\"R_gripperCenter\",\"world\"])\n",
    "    c2 = 2\n",
    "    y2, J2 = c2*y2, c2*J2\n",
    "\n",
    "    # Third \"qItself\" feature is for regularization (small joint velocity)\n",
    "    vel_ee = np.block([-y1, c2-y2, np.zeros(q.shape[0])]) \n",
    "    J = np.block([[J1],[J2],[1e-1*np.eye(q.shape[0])]])\n",
    "    \n",
    "    \n",
    "    ## these are equivalent!\n",
    "#     vel =  np.linalg.pinv(J) @ vel_ee;\n",
    "    vel =  np.linalg.inv(J.T@J) @ J.T @ vel_ee;\n",
    "\n",
    "\n",
    "    q += tau*vel\n",
    "    C.setJointState(q) "
   ]
  },
  {
   "cell_type": "markdown",
   "metadata": {},
   "source": [
    "## Using Komo for IK"
   ]
  },
  {
   "cell_type": "code",
   "execution_count": 9,
   "metadata": {},
   "outputs": [],
   "source": [
    "import sys\n",
    "sys.path.append('../../build')\n",
    "import numpy as np\n",
    "import libry as ry"
   ]
  },
  {
   "cell_type": "code",
   "execution_count": 10,
   "metadata": {},
   "outputs": [],
   "source": [
    "# Here we do not need a simulation world\n",
    "# adding a configuration world\n",
    "C = ry.Config()\n",
    "C.addFile(\"../../scenarios/pandasTable.g\")\n",
    "D = C.view()"
   ]
  },
  {
   "cell_type": "code",
   "execution_count": 15,
   "metadata": {},
   "outputs": [],
   "source": [
    "obj = C.addFrame(\"object\")\n",
    "obj.setPosition([1., 0., 1.5])\n",
    "obj.setQuaternion([1,0,1,0])\n",
    "obj.setShape(ry.ST.capsule, [.2,.02])\n",
    "obj.setColor([1,0,1])\n",
    "\n",
    "objFrame = C.addFrame(\"objectFrame\", parent = \"object\")\n",
    "objFrame.setShape(ry.ST.marker,[.1])"
   ]
  },
  {
   "cell_type": "code",
   "execution_count": 20,
   "metadata": {},
   "outputs": [],
   "source": [
    "IK = C.komo_IK(False)\n",
    "# IK.add_qControlObjective([], 1, 1.)\n",
    "\n",
    "IK.addObjective([1.], \n",
    "                ry.FS.quaternionDiff, \n",
    "                [\"object\", \"R_gripperCenter\"], \n",
    "                ry.OT.eq, \n",
    "                [1e2]);\n",
    "\n",
    "IK.addObjective([1.], \n",
    "                ry.FS.positionRel, \n",
    "                [\"object\", \"R_gripperCenter\"], \n",
    "                ry.OT.eq, \n",
    "                [1e2],\n",
    "                [0.,0.,-.0]);"
   ]
  },
  {
   "cell_type": "code",
   "execution_count": 21,
   "metadata": {},
   "outputs": [
    {
     "name": "stdout",
     "output_type": "stream",
     "text": [
      "** KOMO::run solver:dense collisions:0 x-dim:14 T:1 k:1 phases:1 stepsPerPhase:1 tau:1  #timeSlices:2 #totalDOFs:14 #frames:230\n",
      "** optimization time:0.045252 (kin:0.003318 coll:0 feat:0.02194 newton: 0.004199) setJointStateCount:1000\n",
      "   sos:0.036494 ineq:0 eq:52.0132\n"
     ]
    },
    {
     "data": {
      "text/plain": [
       "{'F_qItself/1-#28': {'order': 1.0, 'type': 'sos', 'sos': 0.036494039127971174},\n",
       " 'F_qQuaternionNorms/0-#115': {'order': 0.0, 'type': 'eq'},\n",
       " 'F_QuaternionDiff/0-object-R_gripperCenter': {'order': 0.0,\n",
       "  'type': 'eq',\n",
       "  'eq': 15.662644512325981},\n",
       " 'F_PositionRel/0-object-R_gripperCenter': {'order': 0.0,\n",
       "  'type': 'eq',\n",
       "  'eq': 36.35059803334123},\n",
       " 'sos': 0.036494039127971174,\n",
       " 'ineq': 0.0,\n",
       " 'eq': 52.01324254566721,\n",
       " 'f': 0.0}"
      ]
     },
     "execution_count": 21,
     "metadata": {},
     "output_type": "execute_result"
    }
   ],
   "source": [
    "# Calling the optimizer (True means random initialization/restart)\n",
    "IK.optimize()\n",
    "IK.getReport()"
   ]
  },
  {
   "cell_type": "code",
   "execution_count": 22,
   "metadata": {},
   "outputs": [],
   "source": [
    "C.setFrameState( IK.getFrameState(0) )"
   ]
  },
  {
   "cell_type": "code",
   "execution_count": 23,
   "metadata": {},
   "outputs": [
    {
     "name": "stdout",
     "output_type": "stream",
     "text": [
      "** KOMO::run solver:dense collisions:0 x-dim:14 T:1 k:1 phases:1 stepsPerPhase:1 tau:1  #timeSlices:2 #totalDOFs:14 #frames:230\n",
      "** optimization time:0.002381 (kin:0.000135 coll:0 feat:0.00107 newton: 0.000261) setJointStateCount:29\n",
      "   sos:3.24927 ineq:0 eq:0.00360629\n",
      "{'F_qItself/1-#28': {'order': 1.0, 'type': 'sos', 'sos': 3.217103244327128}, 'F_qQuaternionNorms/0-#115': {'order': 0.0, 'type': 'eq'}, 'F_QuaternionDiff/0-object-R_gripperCenter': {'order': 0.0, 'type': 'eq', 'eq': 0.0012772232101311565}, 'F_PositionDiff/0-R_gripperCenter-L_gripperCenter': {'order': 0.0, 'type': 'eq', 'eq': 0.002329066954274983}, 'sos': 3.2492742767703993, 'ineq': 0.0, 'eq': 0.0036062901644061396, 'f': 0.0}\n"
     ]
    }
   ],
   "source": [
    "# Move object and reoptimize\n",
    "\n",
    "# move object\n",
    "obj.setPosition([.2,.2,1.5])\n",
    "\n",
    "# redefine the IK problem\n",
    "IK = C.komo_IK(False)\n",
    "IK.add_qControlObjective([], 1, 1.)\n",
    "IK.addObjective([1.], \n",
    "                ry.FS.quaternionDiff, \n",
    "                [\"object\", \"R_gripperCenter\"], \n",
    "                ry.OT.eq, \n",
    "                [1e2],\n",
    "                [0.])\n",
    "\n",
    "IK.addObjective([1.], \n",
    "                ry.FS.positionDiff, \n",
    "                [\"R_gripperCenter\", \"L_gripperCenter\"], \n",
    "                ry.OT.eq, \n",
    "                [1e2],\n",
    "                [0.,0.,-.0]);\n",
    "# reoptimize\n",
    "IK.optimize(0.) # 0 indicates: no adding of noise for a random restart\n",
    "print(IK.getReport())\n",
    "\n",
    "# grab result\n",
    "C.setFrameState( IK.getFrameState(0) )"
   ]
  },
  {
   "cell_type": "code",
   "execution_count": null,
   "metadata": {},
   "outputs": [],
   "source": []
  }
 ],
 "metadata": {
  "kernelspec": {
   "display_name": "Python 3 (ipykernel)",
   "language": "python",
   "name": "python3"
  },
  "language_info": {
   "codemirror_mode": {
    "name": "ipython",
    "version": 3
   },
   "file_extension": ".py",
   "mimetype": "text/x-python",
   "name": "python",
   "nbconvert_exporter": "python",
   "pygments_lexer": "ipython3",
   "version": "3.8.10"
  }
 },
 "nbformat": 4,
 "nbformat_minor": 4
}
