{
 "cells": [
  {
   "cell_type": "code",
   "execution_count": 1,
   "id": "0d510d4b-ca3c-4488-89bb-db2f3001991e",
   "metadata": {},
   "outputs": [
    {
     "name": "stdout",
     "output_type": "stream",
     "text": [
      "**ry-c++-log** ry.cpp:init_LogToPythonConsole:34(0) initializing ry log callback\n",
      "\n",
      "**ry-c++-log** util.cpp:initCmdLine:545(1) ** cmd line arguments: 'rai-pybind -python '\n",
      "** INFO:ry.cpp:init_LogToPythonConsole:34(0) initializing ry log callback\n",
      "\n",
      "**ry-c++-log** util.cpp:initCmdLine:549(1) ** run path: '/home/vasko/Documents/TUB3/AI_Robotics/robotics-course/course3-Simulation/02-kinematics/solutions'\n",
      "** INFO:util.cpp:initCmdLine:545(1) ** cmd line arguments: 'rai-pybind -python '\n",
      "\n",
      "**ry-c++-log** graph.cpp:initParameters:1379(1) ** parsed parameters:\n",
      "{python}\n",
      "** INFO:util.cpp:initCmdLine:549(1) ** run path: '/home/vasko/Documents/TUB3/AI_Robotics/robotics-course/course3-Simulation/02-kinematics/solutions'\n",
      "\n",
      "\n",
      "** INFO:graph.cpp:initParameters:1379(1) ** parsed parameters:\n",
      "{python}\n",
      "\n"
     ]
    }
   ],
   "source": [
    "import sys\n",
    "import pathlib\n",
    "sys.path.append('../../../build')\n",
    "\n",
    "import numpy as np\n",
    "import libry as ry"
   ]
  },
  {
   "cell_type": "code",
   "execution_count": 3,
   "id": "6db53904-f392-4f0a-8feb-7d9b701084e5",
   "metadata": {},
   "outputs": [
    {
     "name": "stdout",
     "output_type": "stream",
     "text": [
      "[ 0.  -0.5  0.  -2.   0.   2.  -0.5  0.  -0.5  0.  -2.   0.   2.  -0.5]\n"
     ]
    }
   ],
   "source": [
    "# Here we do not need a simulation world\n",
    "\n",
    "# adding a configuration world\n",
    "\n",
    "C = ry.Config()\n",
    "\n",
    "C.addFile(\"../../../scenarios/pandasTable.g\")\n",
    "print(C.getJointState())\n",
    "q0 = C.getJointState()\n",
    "    \n",
    "D = C.view()"
   ]
  },
  {
   "cell_type": "code",
   "execution_count": 8,
   "id": "4f7676c2-a15f-4396-868c-d43b058d5026",
   "metadata": {},
   "outputs": [],
   "source": [
    "obj = C.addFrame(\"object\")\n",
    "\n",
    "\n",
    "\n",
    "obj.setPosition([1., 0., 1.5])\n",
    "\n",
    "obj.setQuaternion([1,0,1,0])\n",
    "\n",
    "obj.setShape(ry.ST.capsule, [.2,.02])\n",
    "\n",
    "obj.setColor([1,0,1,0.5])\n",
    "\n",
    "objFrame = C.addFrame(\"objectFrame\",parent=\"object\")\n",
    "objFrame.setShape(ry.ST.marker,[.1])\n",
    "\n",
    "\n"
   ]
  },
  {
   "cell_type": "code",
   "execution_count": 9,
   "id": "025d6f90-0b56-4cd7-a135-80eefc563aa9",
   "metadata": {},
   "outputs": [],
   "source": [
    "obj.setPosition([.2,.2,1.5]) \n",
    "\n",
    "\n",
    "IK = C.komo_IK(False)\n",
    "\n",
    "\n",
    "# uncomment for quaternion diff\n",
    "# IK.addObjective([1.], \n",
    "#                 ry.FS.quaternionDiff, \n",
    "#                 [\"object\", \"R_gripperCenter\"], \n",
    "#                 ry.OT.eq, \n",
    "#                 [1e2]\n",
    "#                );\n",
    "\n",
    "IK.addObjective([1.], \n",
    "                 ry.FS.scalarProductYZ, \n",
    "                 [ \"R_gripperCenter\", \"object\" ], \n",
    "                 ry.OT.eq, \n",
    "                 [1e2],\n",
    "                [1]\n",
    "                );\n",
    "# NOTE: we can also use:\n",
    "# IK.addObjective([1.], \n",
    "#                  ry.FS.scalarProductXZ, \n",
    "#                  [ \"R_gripperCenter\", \"object\" ], \n",
    "#                  ry.OT.eq, \n",
    "#                  [1e2],\n",
    "#                 [0.]\n",
    "#                 );\n",
    "\n",
    "# IK.addObjective([1.], \n",
    "#                  ry.FS.scalarProductZZ, \n",
    "#                  [ \"R_gripperCenter\", \"object\" ], \n",
    "#                  ry.OT.eq, \n",
    "#                  [1e2]\n",
    "#                 );\n",
    "\n",
    "pre_grasp_distance = .1\n",
    "IK.addObjective([1.], \n",
    "\n",
    "                ry.FS.positionRel, \n",
    "\n",
    "                [\"object\", \"R_gripperCenter\"], \n",
    "\n",
    "                ry.OT.eq, \n",
    "\n",
    "                [1e2],\n",
    "\n",
    "                [0.,.0,-pre_grasp_distance]);\n",
    "\n"
   ]
  },
  {
   "cell_type": "code",
   "execution_count": 10,
   "id": "b36fe0a4-7704-4dfe-b19a-a4a9c0234bb3",
   "metadata": {},
   "outputs": [
    {
     "name": "stdout",
     "output_type": "stream",
     "text": [
      "** KOMO::run solver:dense collisions:0 x-dim:14 T:1 k:1 phases:1 stepsPerPhase:1 tau:1  #timeSlices:2 #totalDOFs:14 #frames:226\n"
     ]
    },
    {
     "data": {
      "text/plain": [
       "{'F_qItself/1-#28': {'order': 1.0,\n",
       "  'type': 'sos',\n",
       "  'sos': 5.3828096355559135e-06},\n",
       " 'F_qQuaternionNorms/0-#113': {'order': 0.0, 'type': 'eq'},\n",
       " 'F_ScalarProduct/0-R_gripperCenter-object': {'order': 0.0,\n",
       "  'type': 'eq',\n",
       "  'eq': 0.004306346665106098},\n",
       " 'F_PositionRel/0-object-R_gripperCenter': {'order': 0.0,\n",
       "  'type': 'eq',\n",
       "  'eq': 0.006630912221344644},\n",
       " 'sos': 5.3828096355559135e-06,\n",
       " 'ineq': 0.0,\n",
       " 'eq': 0.010937258886450741,\n",
       " 'f': 0.0}"
      ]
     },
     "execution_count": 10,
     "metadata": {},
     "output_type": "execute_result"
    },
    {
     "name": "stdout",
     "output_type": "stream",
     "text": [
      "** optimization time:0.000221 (kin:1.2e-05 coll:0 feat:7.8e-05 newton: 2e-05) setJointStateCount:3\n",
      "   sos:5.38281e-06 ineq:0 eq:0.0109373\n"
     ]
    }
   ],
   "source": [
    "IK.optimize()\n",
    "IK.getReport()"
   ]
  },
  {
   "cell_type": "code",
   "execution_count": 11,
   "id": "6102c8fd-4727-4d99-9db6-1af4ea3d7fb6",
   "metadata": {},
   "outputs": [
    {
     "name": "stdout",
     "output_type": "stream",
     "text": [
      "[ 0.00544713 -0.50745285 -0.01366458 -2.00051079 -0.0055751   2.00130796\n",
      " -0.49418811  0.03605301 -0.30392017  0.32461019 -1.51509777 -0.3390449\n",
      "  2.27069433 -0.31911074]\n"
     ]
    }
   ],
   "source": [
    "C.setFrameState( IK.getFrameState(0) )\n",
    "print(C.getJointState())"
   ]
  },
  {
   "cell_type": "code",
   "execution_count": null,
   "id": "e3ab252d-00dc-4ff4-a38a-c724ff3be38f",
   "metadata": {},
   "outputs": [],
   "source": []
  }
 ],
 "metadata": {
  "kernelspec": {
   "display_name": "Python 3 (ipykernel)",
   "language": "python",
   "name": "python3"
  },
  "language_info": {
   "codemirror_mode": {
    "name": "ipython",
    "version": 3
   },
   "file_extension": ".py",
   "mimetype": "text/x-python",
   "name": "python",
   "nbconvert_exporter": "python",
   "pygments_lexer": "ipython3",
   "version": "3.8.10"
  }
 },
 "nbformat": 4,
 "nbformat_minor": 5
}
