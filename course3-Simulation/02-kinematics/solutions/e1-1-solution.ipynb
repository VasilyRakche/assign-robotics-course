{
 "cells": [
  {
   "cell_type": "code",
   "execution_count": 2,
   "metadata": {},
   "outputs": [
    {
     "name": "stdout",
     "output_type": "stream",
     "text": [
      "**ry-c++-log** ry.cpp:init_LogToPythonConsole:34(0) initializing ry log callback\n",
      "\n",
      "**ry-c++-log** util.cpp:initCmdLine:545(1) ** cmd line arguments: 'rai-pybind -python '\n",
      "** INFO:ry.cpp:init_LogToPythonConsole:34(0) initializing ry log callback\n",
      "\n",
      "**ry-c++-log** util.cpp:initCmdLine:549(1) ** run path: '/home/vasko/Documents/TUB3/AI_Robotics/robotics-course/course3-Simulation/02-kinematics/solutions'\n",
      "** INFO:util.cpp:initCmdLine:545(1) ** cmd line arguments: 'rai-pybind -python '\n",
      "\n",
      "**ry-c++-log** graph.cpp:initParameters:1379(1) ** parsed parameters:\n",
      "{python}\n",
      "** INFO:util.cpp:initCmdLine:549(1) ** run path: '/home/vasko/Documents/TUB3/AI_Robotics/robotics-course/course3-Simulation/02-kinematics/solutions'\n",
      "\n",
      "\n",
      "** INFO:graph.cpp:initParameters:1379(1) ** parsed parameters:\n",
      "{python}\n",
      "\n"
     ]
    }
   ],
   "source": [
    "import numpy as np\n",
    "import sys\n",
    "import pathlib\n",
    "sys.path.append('../../../build')\n",
    "import libry as ry\n",
    "import time"
   ]
  },
  {
   "cell_type": "markdown",
   "metadata": {},
   "source": [
    "## Circling motion with coordinate transformation \n",
    "\n",
    "The circling motion can be easily made in the polar cordinate, e.g., $$\\dot{r} = 1-r,~\\dot{\\theta}=1.$$\n",
    "So, all we need to do is:\n",
    "1. transform the feature value (again only $(y_1,y_3)$ components, with $\\dot{y}_2=-y_2$) into polar coordinate, $$r=\\sqrt{y_1^2+y_3^2},~\\theta=\\arctan2(y_1,y_3).$$\n",
    "2. compute the desired velocity in polar coordinate, $$\\dot{r} = 1-r,~\\dot{\\theta}=1.$$\n",
    "3. transform it back to the original feature space, $$\\dot{y}_1 = \\dot{r}\\cos\\theta-r\\dot{\\theta}\\sin\\theta,\\\\\n",
    "\\dot{y}_3 = \\dot{r}\\sin\\theta+r\\dot{\\theta}\\cos\\theta.$$\n",
    "(derived from $y_1=r\\cos\\theta, y_3=r\\sin\\theta$)\n",
    "4. take the psuedoinverse to get the joint velocity."
   ]
  },
  {
   "cell_type": "markdown",
   "metadata": {},
   "source": [
    "### My notes:\n",
    "r is the distance between the frame center and the object (radius 1 is desired)\n"
   ]
  },
  {
   "cell_type": "code",
   "execution_count": 2,
   "metadata": {},
   "outputs": [],
   "source": [
    "#-- MODEL WORLD configuration, this is the data structure on which you represent\n",
    "# what you know about the world and compute things (controls, contacts, etc)\n",
    "C = ry.Config()\n",
    "C.addFile( str(path / \"scenarios/pandasTable.g\" ))\n",
    "D = C.view()\n",
    "q0 = C.getJointState()"
   ]
  },
  {
   "cell_type": "code",
   "execution_count": 3,
   "metadata": {},
   "outputs": [],
   "source": [
    "obj = C.addFrame(\"object\")\n",
    "# set frame parameters, associate a shape to the frame, \n",
    "pos_obj = np.array([.5,0,1.5])\n",
    "pos_obj0 = pos_obj.copy()\n",
    "obj.setPosition(pos_obj)\n",
    "obj.setQuaternion([1,0,0,0])\n",
    "obj.setShape(ry.ST.sphere, [.02])\n",
    "obj.setColor([1,0,0])"
   ]
  },
  {
   "cell_type": "code",
   "execution_count": null,
   "metadata": {},
   "outputs": [],
   "source": [
    "q = C.getJointState()\n",
    "print('joint names: ', C.getFrameNames() )\n",
    "print('joint state: ', q)"
   ]
  },
  {
   "cell_type": "code",
   "execution_count": 4,
   "metadata": {},
   "outputs": [
    {
     "ename": "KeyboardInterrupt",
     "evalue": "",
     "output_type": "error",
     "traceback": [
      "\u001b[0;31m---------------------------------------------------------------------------\u001b[0m",
      "\u001b[0;31mKeyboardInterrupt\u001b[0m                         Traceback (most recent call last)",
      "Input \u001b[0;32mIn [4]\u001b[0m, in \u001b[0;36m<module>\u001b[0;34m\u001b[0m\n\u001b[1;32m     36\u001b[0m vel \u001b[38;5;241m=\u001b[39m J\u001b[38;5;241m.\u001b[39mT \u001b[38;5;241m@\u001b[39m np\u001b[38;5;241m.\u001b[39mlinalg\u001b[38;5;241m.\u001b[39minv(J\u001b[38;5;129m@J\u001b[39m\u001b[38;5;241m.\u001b[39mT \u001b[38;5;241m+\u001b[39m \u001b[38;5;241m1e-2\u001b[39m\u001b[38;5;241m*\u001b[39mnp\u001b[38;5;241m.\u001b[39meye(y\u001b[38;5;241m.\u001b[39mshape[\u001b[38;5;241m0\u001b[39m])) \u001b[38;5;241m@\u001b[39m vel_ee;\n\u001b[1;32m     38\u001b[0m q \u001b[38;5;241m+\u001b[39m\u001b[38;5;241m=\u001b[39m tau\u001b[38;5;241m*\u001b[39mvel\n\u001b[0;32m---> 39\u001b[0m \u001b[43mC\u001b[49m\u001b[38;5;241;43m.\u001b[39;49m\u001b[43msetJointState\u001b[49m\u001b[43m(\u001b[49m\u001b[43mq\u001b[49m\u001b[43m)\u001b[49m\n",
      "\u001b[0;31mKeyboardInterrupt\u001b[0m: "
     ]
    }
   ],
   "source": [
    "tau = .01\n",
    "C.setJointState(q0)\n",
    "q = C.getJointState()\n",
    "for t in range(1000):\n",
    "    time.sleep(0.01)\n",
    "    \n",
    "    #### Solution\n",
    "    \n",
    "    [y,J] = C.evalFeature(ry.FS.positionRel, [\"R_gripperCenter\", \"object\"])\n",
    "    # pos_obj[0] = 1 - np.sin(0.01*t) #move the obj for fun!\n",
    "    obj.setPosition(pos_obj)\n",
    "\n",
    "    # 1. transform to polar coordinate\n",
    "    r = np.sqrt(y[0]**2 + y[2]**2)\n",
    "    theta = np.arctan2(y[2],y[0])\n",
    "\n",
    "    # 2. compute the velocity there (you can change the params of dynamics)\n",
    "    r_dot = 0.2-r\n",
    "    theta_dot = -10.\n",
    "\n",
    "    # 3. transform back to feature space (gripper velocity)\n",
    "    y1_dot = r_dot*np.cos(theta)-r*theta_dot*np.sin(theta)\n",
    "   \n",
    "    y3_dot = r_dot*np.sin(theta)+r*theta_dot*np.cos(theta)\n",
    "    y2_dot = -y[1]\n",
    "    \n",
    "    # alternative ODE that generates circles\n",
    "    # (kepping the initial radius)\n",
    "    #y1_dot = -3*y[2]\n",
    "    #y3_dot = 3*y[0]\n",
    "    #y2_dot = -y[1]\n",
    "\n",
    "    \n",
    "    \n",
    "\n",
    "    # 4. take the psuedoinverse to get the joint velocity.\n",
    "    vel_ee = np.array([y1_dot, y2_dot, y3_dot])\n",
    "    \n",
    "    ####\n",
    "    \n",
    "    vel = J.T @ np.linalg.inv(J@J.T + 1e-2*np.eye(y.shape[0])) @ vel_ee;\n",
    "    \n",
    "    q += tau*vel\n",
    "    C.setJointState(q) "
   ]
  },
  {
   "cell_type": "code",
   "execution_count": null,
   "metadata": {},
   "outputs": [],
   "source": []
  },
  {
   "cell_type": "code",
   "execution_count": null,
   "metadata": {},
   "outputs": [],
   "source": []
  }
 ],
 "metadata": {
  "kernelspec": {
   "display_name": "Python 3 (ipykernel)",
   "language": "python",
   "name": "python3"
  },
  "language_info": {
   "codemirror_mode": {
    "name": "ipython",
    "version": 3
   },
   "file_extension": ".py",
   "mimetype": "text/x-python",
   "name": "python",
   "nbconvert_exporter": "python",
   "pygments_lexer": "ipython3",
   "version": "3.8.10"
  }
 },
 "nbformat": 4,
 "nbformat_minor": 4
}
