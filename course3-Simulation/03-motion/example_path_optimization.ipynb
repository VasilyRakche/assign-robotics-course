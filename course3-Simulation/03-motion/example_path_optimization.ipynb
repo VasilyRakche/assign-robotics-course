{
 "cells": [
  {
   "cell_type": "code",
   "execution_count": null,
   "metadata": {},
   "outputs": [],
   "source": [
    "import sys\n",
    "sys.path.append('../../build')\n",
    "import numpy as np\n",
    "import libry as ry"
   ]
  },
  {
   "cell_type": "code",
   "execution_count": null,
   "metadata": {},
   "outputs": [],
   "source": [
    "# Here we do not need a simulation world\n",
    "# adding a configuration world\n",
    "C = ry.Config()\n",
    "C.addFile(\"../../scenarios/pandasTable.g\")\n",
    "D = C.view()\n",
    "\n",
    "obj = C.addFrame(\"object\")\n",
    "obj.setPosition([.8,.2,1.])\n",
    "obj.setQuaternion([1,0.76,0.1,0])\n",
    "obj.setShape(ry.ST.capsule, [.2,.02])\n",
    "obj.setColor([1,0,1])"
   ]
  },
  {
   "cell_type": "code",
   "execution_count": null,
   "metadata": {},
   "outputs": [],
   "source": [
    "komo = C.komo_path(1.,40, 5., True)\n",
    "komo.addObjective([1.], ry.FS.positionDiff, [\"R_gripperCenter\", \"object\"], ry.OT.eq, [1e2])\n",
    "komo.addObjective([0.7, 1.], \n",
    "                ry.FS.scalarProductXZ, \n",
    "                [\"R_gripperCenter\", \"object\"], \n",
    "                ry.OT.eq, \n",
    "                [1e2],\n",
    "                [0.])\n",
    "\n",
    "komo.addObjective([0.7, 1.], \n",
    "                ry.FS.scalarProductZZ, \n",
    "                [\"R_gripperCenter\", \"object\"], \n",
    "                ry.OT.eq, \n",
    "                [1e2],\n",
    "                [0.])\n",
    "\n",
    "komo.addObjective([0.7, 1.0], \n",
    "                  ry.FS.positionRel, \n",
    "                  [\"object\", \"R_gripperCenter\"], \n",
    "                  ry.OT.eq, \n",
    "                  [1e2], \n",
    "                  [0,0,-0.1], \n",
    "                  order=2)\n",
    "komo.addObjective([1.], ry.FS.qItself, [], ry.OT.eq, [1e2], order=1)\n",
    "komo.optimize()\n",
    "komo.getReport()"
   ]
  },
  {
   "cell_type": "code",
   "execution_count": null,
   "metadata": {},
   "outputs": [],
   "source": [
    "V = komo.view_play(True, 0.1)"
   ]
  },
  {
   "cell_type": "code",
   "execution_count": null,
   "metadata": {},
   "outputs": [],
   "source": []
  }
 ],
 "metadata": {
  "kernelspec": {
   "display_name": "base",
   "language": "python",
   "name": "base"
  },
  "language_info": {
   "codemirror_mode": {
    "name": "ipython",
    "version": 3
   },
   "file_extension": ".py",
   "mimetype": "text/x-python",
   "name": "python",
   "nbconvert_exporter": "python",
   "pygments_lexer": "ipython3",
   "version": "3.8.5"
  }
 },
 "nbformat": 4,
 "nbformat_minor": 4
}


