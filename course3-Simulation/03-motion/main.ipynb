{
 "cells": [
  {
   "cell_type": "markdown",
   "metadata": {},
   "source": [
    "## Using Komo for IK"
   ]
  },
  {
   "cell_type": "code",
   "execution_count": 1,
   "metadata": {},
   "outputs": [
    {
     "name": "stdout",
     "output_type": "stream",
     "text": [
      "**ry-c++-log** ry.cpp:init_LogToPythonConsole:34(0) initializing ry log callback\n",
      "\n",
      "**ry-c++-log** util.cpp:initCmdLine:545(1) ** cmd line arguments: 'rai-pybind -python '\n",
      "** INFO:ry.cpp:init_LogToPythonConsole:34(0) initializing ry log callback\n",
      "\n",
      "**ry-c++-log** util.cpp:initCmdLine:549(1) ** run path: '/home/vasko/Documents/TUB3/AI_Robotics/robotics-course/course3-Simulation/03-motion'** INFO:util.cpp:initCmdLine:545(1) ** cmd line arguments: 'rai-pybind -python '\n",
      "\n",
      "\n",
      "**ry-c++-log** graph.cpp:initParameters:1379(1) ** parsed parameters:\n",
      "{python}\n",
      "\n",
      "** INFO:util.cpp:initCmdLine:549(1) ** run path: '/home/vasko/Documents/TUB3/AI_Robotics/robotics-course/course3-Simulation/03-motion'\n",
      "\n",
      "** INFO:graph.cpp:initParameters:1379(1) ** parsed parameters:\n",
      "{python}\n",
      "\n"
     ]
    }
   ],
   "source": [
    "import sys\n",
    "sys.path.append('../../build')\n",
    "import numpy as np\n",
    "import libry as ry"
   ]
  },
  {
   "cell_type": "code",
   "execution_count": 2,
   "metadata": {},
   "outputs": [],
   "source": [
    "# RealWorld <- Attach the simulator\n",
    "\n",
    "# C is for plannning\n",
    "#   plan -> q (afterwards give it to Simulator)\n",
    "#   you can set the joints as you want here, but accessing the simulator with the q function\n",
    "#   if you give q to the C, it will just change the configuration\n",
    "#   if you give q to the RealWorld, it will do all the calculations (colisions and so on, and we can see how it relates to other opjects)\n",
    "#   in RealWorld you can model how object moves ...\n",
    "\n",
    "# If you update the simulator, then it updates the RealWorld \n",
    "# "
   ]
  },
  {
   "cell_type": "code",
   "execution_count": 3,
   "metadata": {},
   "outputs": [],
   "source": [
    "# Here we do not need a simulation world\n",
    "# adding a configuration world\n",
    "C = ry.Config()\n",
    "C.addFile(\"../../scenarios/pandasTable.g\")\n",
    "D = C.view()"
   ]
  },
  {
   "cell_type": "code",
   "execution_count": 4,
   "metadata": {},
   "outputs": [],
   "source": [
    "obj = C.addFrame(\"object\")\n",
    "obj.setPosition([1., 0., 1.5])\n",
    "obj.setQuaternion([1,0,1,0])\n",
    "obj.setShape(ry.ST.capsule, [.2,.02])\n",
    "obj.setColor([1,0,1])"
   ]
  },
  {
   "cell_type": "code",
   "execution_count": 5,
   "metadata": {},
   "outputs": [],
   "source": [
    "IK = C.komo_IK(False)\n",
    "IK.add_qControlObjective([], 1, 1.)\n",
    "IK.addObjective([1.], \n",
    "                ry.FS.positionDiff, \n",
    "                [\"object\", \"R_gripperCenter\"], \n",
    "                ry.OT.eq, \n",
    "                [1e2],\n",
    "                [0.,0.,.0])"
   ]
  },
  {
   "cell_type": "code",
   "execution_count": 6,
   "metadata": {},
   "outputs": [
    {
     "name": "stdout",
     "output_type": "stream",
     "text": [
      "** KOMO::run solver:dense collisions:0 x-dim:14 T:1 k:1 phases:1 stepsPerPhase:1 tau:1  #timeSlices:2 #totalDOFs:14 #frames:220\n",
      "** optimization time:0.000872 (kin:4.3e-05 coll:0 feat:0.000334 newton: 0.000122) setJointStateCount:9\n",
      "   sos:2.01047 ineq:0 eq:0.00280914\n"
     ]
    }
   ],
   "source": [
    "# Calling the optimizer (True means random initialization/restart)\n",
    "IK.optimize()\n",
    "IK.getReport()\n",
    "C.setFrameState( IK.getFrameState(0) )"
   ]
  },
  {
   "cell_type": "code",
   "execution_count": 7,
   "metadata": {
    "scrolled": true
   },
   "outputs": [
    {
     "name": "stdout",
     "output_type": "stream",
     "text": [
      "{'F_qItself/1-#28': {'order': 1.0, 'type': 'sos', 'sos': 1.2722238184459724}, 'F_qQuaternionNorms/0-#110': {'order': 0.0, 'type': 'eq'}, 'F_PositionRel/0-object-R_gripperCenter': {'order': 0.0, 'type': 'eq', 'eq': 0.00032602403429674714}, 'sos': 1.2849460566304323, 'ineq': 0.0, 'eq': 0.00032602403429674714, 'f': 0.0}** KOMO::run solver:dense collisions:0 x-dim:14 T:1 k:1 phases:1 stepsPerPhase:1 tau:1  #timeSlices:2 #totalDOFs:14 #frames:220\n",
      "** optimization time:0.00225 (kin:4.8e-05 coll:0 feat:0.000476 newton: 0.001346) setJointStateCount:11\n",
      "   sos:1.28495 ineq:0 eq:0.000326024\n",
      "\n"
     ]
    }
   ],
   "source": [
    "# Move object and reoptimize\n",
    "\n",
    "# move object\n",
    "obj.setPosition([.2,.2,1.5])\n",
    "\n",
    "# # copy C into the IK's internal configuration(s)\n",
    "# IK.setConfigurations(C)\n",
    "\n",
    "# redefine the IK problem\n",
    "IK = C.komo_IK(False)\n",
    "IK.add_qControlObjective([], 1, 1.)\n",
    "IK.addObjective([1.], \n",
    "                ry.FS.positionRel, \n",
    "                [\"object\", \"R_gripperCenter\"], \n",
    "                ry.OT.eq, \n",
    "                [1e2],\n",
    "                [0.,0.,-.1]);\n",
    "# reoptimize\n",
    "IK.optimize(0.) # 0 indicates: no adding of noise for a random restart\n",
    "print(IK.getReport())\n",
    "\n",
    "# grab result\n",
    "C.setFrameState( IK.getFrameState(0) )"
   ]
  },
  {
   "cell_type": "markdown",
   "metadata": {},
   "source": [
    "## Path Optimization"
   ]
  },
  {
   "cell_type": "code",
   "execution_count": 5,
   "metadata": {},
   "outputs": [],
   "source": [
    "obj.setPosition([.8,.2,1.5])\n",
    "\n"
   ]
  },
  {
   "cell_type": "code",
   "execution_count": 5,
   "metadata": {},
   "outputs": [],
   "source": [
    "# we want to optimize a single step (1 phase, 1 step/phase, duration=1, k_order=1)\n",
    "# parameters (phase, step per phase, duration, collision checking)\n",
    "komo = C.komo_path(1.,40, 5., False)\n",
    "komo.addObjective([1.], ry.FS.positionDiff, [\"R_gripperCenter\", \"object\"], ry.OT.sos, [1e2])\n",
    "komo.addObjective([1.], ry.FS.qItself, [], ry.OT.eq, [1e2], order=2) # At the end velocity is zero\n",
    "# komo.addObjective([1.], ry.FS.distance, [\"R_gripper\", \"object\"], ry.OT.ineq, [1e2])\n"
   ]
  },
  {
   "cell_type": "code",
   "execution_count": 6,
   "metadata": {},
   "outputs": [
    {
     "name": "stdout",
     "output_type": "stream",
     "text": [
      "** KOMO::run solver:sparse collisions:0 x-dim:560 T:40 k:2 phases:1 stepsPerPhase:40 tau:0.125  #timeSlices:42 #totalDOFs:560 #frames:4620\n",
      "** optimization time:0.024391 (kin:0.001897 coll:0 feat:0.012219 newton: 0.004924) setJointStateCount:20\n",
      "   sos:0.0734672 ineq:0 eq:9.80067e-08\n"
     ]
    }
   ],
   "source": [
    "komo.optimize()\n"
   ]
  },
  {
   "cell_type": "code",
   "execution_count": 7,
   "metadata": {},
   "outputs": [
    {
     "data": {
      "text/plain": [
       "{'F_qItself/2-#28': {'order': 2.0, 'type': 'eq', 'eq': 9.80066625078102e-08},\n",
       " 'F_PositionDiff/0-R_gripperCenter-object': {'order': 0.0,\n",
       "  'type': 'sos',\n",
       "  'sos': 4.230258504353078e-05},\n",
       " 'sos': 0.07346718652220179,\n",
       " 'ineq': 0.0,\n",
       " 'eq': 9.80066625078102e-08,\n",
       " 'f': 0.0}"
      ]
     },
     "execution_count": 7,
     "metadata": {},
     "output_type": "execute_result"
    }
   ],
   "source": [
    "komo.getReport()"
   ]
  },
  {
   "cell_type": "code",
   "execution_count": null,
   "metadata": {},
   "outputs": [],
   "source": [
    "while True:\n",
    "    V = komo.view_play(True, 0.1)"
   ]
  },
  {
   "cell_type": "markdown",
   "metadata": {},
   "source": [
    "## Check Collisions"
   ]
  },
  {
   "cell_type": "code",
   "execution_count": null,
   "metadata": {},
   "outputs": [],
   "source": [
    "C.setFrameState(komo.getFrameState(19))\n",
    "C.getJointState()\n",
    "coll = C.feature(ry.FS.accumulatedCollisions, [])\n",
    "C.computeCollisions() \n",
    "coll.eval(C)"
   ]
  },
  {
   "cell_type": "code",
   "execution_count": null,
   "metadata": {},
   "outputs": [],
   "source": []
  }
 ],
 "metadata": {
  "kernelspec": {
   "display_name": "Python 3 (ipykernel)",
   "language": "python",
   "name": "python3"
  },
  "language_info": {
   "codemirror_mode": {
    "name": "ipython",
    "version": 3
   },
   "file_extension": ".py",
   "mimetype": "text/x-python",
   "name": "python",
   "nbconvert_exporter": "python",
   "pygments_lexer": "ipython3",
   "version": "3.8.10"
  }
 },
 "nbformat": 4,
 "nbformat_minor": 4
}
