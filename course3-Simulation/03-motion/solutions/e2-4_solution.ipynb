{
 "cells": [
  {
   "cell_type": "code",
   "execution_count": 1,
   "metadata": {},
   "outputs": [
    {
     "name": "stdout",
     "output_type": "stream",
     "text": [
      "**ry-c++-log** ry.cpp:init_LogToPythonConsole:34(0) initializing ry log callback\n",
      "\n",
      "**ry-c++-log** util.cpp:initCmdLine:545(1) ** cmd line arguments: 'rai-pybind -python '\n",
      "\n",
      "** INFO:ry.cpp:init_LogToPythonConsole:34(0) initializing ry log callback\n",
      "**ry-c++-log** util.cpp:initCmdLine:549(1) ** run path: '/home/quim/stg/jungsu/roboticslab/code/e2'** INFO:util.cpp:initCmdLine:545(1) ** cmd line arguments: 'rai-pybind -python '\n",
      "\n",
      "\n",
      "**ry-c++-log** graph.cpp:initParameters:1379(1) ** parsed parameters:\n",
      "{python}\n",
      "\n",
      "** INFO:util.cpp:initCmdLine:549(1) ** run path: '/home/quim/stg/jungsu/roboticslab/code/e2'\n",
      "\n",
      "** INFO:graph.cpp:initParameters:1379(1) ** parsed parameters:\n",
      "{python}\n",
      "\n"
     ]
    }
   ],
   "source": [
    "import numpy as np\n",
    "import sys\n",
    "import pathlib\n",
    "path=pathlib.Path(\"/home/quim/stg/jungsu/robotics-course/\")\n",
    "sys.path.append(str(path / \"build\"))\n",
    "import libry as ry\n",
    "import time"
   ]
  },
  {
   "cell_type": "code",
   "execution_count": 4,
   "metadata": {},
   "outputs": [],
   "source": [
    "# Here we do not need a simulation world\n",
    "# adding a configuration world\n",
    "C = ry.Config()\n",
    "C.addFile(str(path  / \"scenarios/pandasTable.g\"))\n",
    "D = C.view()"
   ]
  },
  {
   "cell_type": "code",
   "execution_count": 5,
   "metadata": {},
   "outputs": [],
   "source": [
    "obj = C.addFrame(\"object\")\n",
    "obj.setPosition([.2,.2,1.5])\n",
    "obj.setQuaternion([1,0,1,0])\n",
    "obj.setShape(ry.ST.capsule, [.2,.02])\n",
    "obj.setColor([1,0,1])"
   ]
  },
  {
   "cell_type": "code",
   "execution_count": 6,
   "metadata": {},
   "outputs": [],
   "source": [
    "IK = C.komo_IK(False)\n",
    "mode = 1 # 0 : positionRel = 0 0 0 ; 1 PositionRel constraints\n",
    "# of ex2-3 \n",
    "l = .2 # length is .2\n",
    "if mode == 0:\n",
    "    IK.addObjective([1.], \n",
    "                    ry.FS.positionRel, \n",
    "                    [\"object\", \"R_gripperCenter\"], \n",
    "                    ry.OT.eq, \n",
    "                    [1e2],\n",
    "                    [0.,0.,-.0]);\n",
    "if mode == 1:\n",
    "\n",
    "    IK.addObjective([1.], \n",
    "                    ry.FS.positionRel, \n",
    "                    [\"R_gripperCenter\",\"object\"], \n",
    "                    ry.OT.eq, \n",
    "                    1e2*np.array([[1,0,0],[0,1,0]]),\n",
    "                    [0.,0.,-.0]);\n",
    "# NOTE: we can also use:\n",
    "#     IK.addObjective([1.], \n",
    "#                     ry.FS.positionRel, \n",
    "#                     [\"R_gripperCenter\",\"object\"], \n",
    "#                     ry.OT.eq, \n",
    "#                     [1e2, 0, 0],\n",
    "#                     [0.,0.,-.0]);\n",
    "    \n",
    "#     IK.addObjective([1.], \n",
    "#                     ry.FS.positionRel, \n",
    "#                     [\"R_gripperCenter\",\"object\"], \n",
    "#                     ry.OT.eq, \n",
    "#                     [0, 1e2, 0],\n",
    "#                     [0.,0.,-.0]);\n",
    "    \n",
    "    IK.addObjective([1.], \n",
    "                    ry.FS.positionRel, \n",
    "                    [\"R_gripperCenter\",\"object\"], \n",
    "                    ry.OT.ineq, \n",
    "                    [0, 0, 1e2],\n",
    "                    [0.,0.,l/2]);\n",
    "    IK.addObjective([1.], \n",
    "                    ry.FS.positionRel, \n",
    "                    [\"R_gripperCenter\",\"object\"], \n",
    "                    ry.OT.ineq, \n",
    "                    [0, 0, -1e2],\n",
    "                    [0.,0.,-l/2]);\n",
    "    \n",
    "    # we can add cost, to grasp in the middle if possible\n",
    "    # IK.addObjective([1.], \n",
    "    #             ry.FS.positionRel, \n",
    "    #             [\"R_gripperCenter\",\"object\"], \n",
    "    #             ry.OT.sos, \n",
    "    #             [0, 0, 1e1]);\n",
    "\n",
    "\n",
    "\n"
   ]
  },
  {
   "cell_type": "code",
   "execution_count": 7,
   "metadata": {},
   "outputs": [
    {
     "name": "stdout",
     "output_type": "stream",
     "text": [
      "** KOMO::run solver:dense collisions:0 x-dim:14 T:1 k:1 phases:1 stepsPerPhase:1 tau:1  #timeSlices:2 #totalDOFs:14 #frames:220\n",
      "** optimization time:0.000777 (kin:2.2e-05 coll:0 feat:0.000129 newton: -1.91807) setJointStateCount:5\n",
      "   sos:0.00515725 ineq:0 eq:0.0218516\n"
     ]
    },
    {
     "data": {
      "text/plain": [
       "{'F_qItself/1-#28': {'order': 1.0, 'type': 'sos', 'sos': 0.005157246827317101},\n",
       " 'F_qQuaternionNorms/0-#110': {'order': 0.0, 'type': 'eq'},\n",
       " 'F_PositionRel/0-R_gripperCenter-object': {'order': 0.0, 'type': 'ineq'},\n",
       " 'sos': 0.005157246827317101,\n",
       " 'ineq': 0.0,\n",
       " 'eq': 0.02185157705097751,\n",
       " 'f': 0.0}"
      ]
     },
     "execution_count": 7,
     "metadata": {},
     "output_type": "execute_result"
    }
   ],
   "source": [
    "# Calling the optimizer (True means random initialization/restart)\n",
    "IK.optimize()\n",
    "IK.getReport()"
   ]
  },
  {
   "cell_type": "code",
   "execution_count": 8,
   "metadata": {},
   "outputs": [],
   "source": [
    "C.setFrameState( IK.getFrameState(0) )"
   ]
  },
  {
   "cell_type": "code",
   "execution_count": null,
   "metadata": {},
   "outputs": [],
   "source": []
  }
 ],
 "metadata": {
  "kernelspec": {
   "display_name": "Python 3 (ipykernel)",
   "language": "python",
   "name": "python3"
  },
  "language_info": {
   "codemirror_mode": {
    "name": "ipython",
    "version": 3
   },
   "file_extension": ".py",
   "mimetype": "text/x-python",
   "name": "python",
   "nbconvert_exporter": "python",
   "pygments_lexer": "ipython3",
   "version": "3.8.10"
  }
 },
 "nbformat": 4,
 "nbformat_minor": 4
}
