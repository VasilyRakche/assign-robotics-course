{
 "cells": [
  {
   "cell_type": "code",
   "execution_count": 1,
   "metadata": {},
   "outputs": [
    {
     "name": "stdout",
     "output_type": "stream",
     "text": [
      "**ry-c++-log** ry.cpp:init_LogToPythonConsole:34(0) initializing ry log callback\n",
      "\n",
      "**ry-c++-log** util.cpp:initCmdLine:545(1) ** cmd line arguments: 'rai-pybind -python '\n",
      "** INFO:ry.cpp:init_LogToPythonConsole:34(0) initializing ry log callback\n",
      "\n",
      "**ry-c++-log** util.cpp:initCmdLine:549(1) ** run path: '/home/vasko/Documents/TUB3/AI_Robotics/robotics-course/course3-Simulation/03-motion/solutions'\n",
      "** INFO:util.cpp:initCmdLine:545(1) ** cmd line arguments: 'rai-pybind -python '\n",
      "\n",
      "**ry-c++-log** graph.cpp:initParameters:1379(1) ** parsed parameters:\n",
      "{python}\n",
      "\n",
      "** INFO:util.cpp:initCmdLine:549(1) ** run path: '/home/vasko/Documents/TUB3/AI_Robotics/robotics-course/course3-Simulation/03-motion/solutions'\n",
      "\n",
      "** INFO:graph.cpp:initParameters:1379(1) ** parsed parameters:\n",
      "{python}\n",
      "\n"
     ]
    }
   ],
   "source": [
    "import sys\n",
    "import pathlib\n",
    "sys.path.append('../../../build')\n",
    "import numpy as np\n",
    "import libry as ry"
   ]
  },
  {
   "cell_type": "code",
   "execution_count": 2,
   "metadata": {},
   "outputs": [],
   "source": [
    "# Here we do not need a simulation world\n",
    "# adding a configuration world\n",
    "C = ry.Config()\n",
    "C.addFile(\"../../../scenarios/pandasTable.g\") \n",
    "D = C.view()\n",
    "\n",
    "obj = C.addFrame(\"object\")\n",
    "obj.setPosition([.8,.2,1.])\n",
    "obj.setQuaternion([1,0.76,0.1,0])\n",
    "obj.setShape(ry.ST.capsule, [.2,.02])\n",
    "obj.setColor([1,0,1])\n",
    "\n",
    "# let's add an obstacle\n",
    "obs = C.addFrame(\"obstacle\")\n",
    "obs.setContact(1)\n",
    "# obs.setPosition([.5,0,1.])\n",
    "obs.setPosition([.45,.1,1.2])\n",
    "obs.setQuaternion([1,0,0,0])\n",
    "obs.setShape(ry.ST.sphere, [.1])\n",
    "obs.setColor([1,1,0])\n",
    "D = C.view()"
   ]
  },
  {
   "cell_type": "code",
   "execution_count": 3,
   "metadata": {},
   "outputs": [],
   "source": [
    "mode = 0 # 0 is normal graps, 1 is touch\n",
    "collisions = True # True or False\n",
    "komo = C.komo_path(1.,40, 5., True)"
   ]
  },
  {
   "cell_type": "code",
   "execution_count": null,
   "metadata": {},
   "outputs": [],
   "source": [
    "margin = -.0 # -.01\n",
    "if mode == 0:\n",
    "    komo.addObjective([0.7, 1.], \n",
    "                    ry.FS.scalarProductXZ, \n",
    "                    [\"R_gripperCenter\", \"object\"], \n",
    "                    ry.OT.eq, \n",
    "                    [1e2],\n",
    "                    [0.])\n",
    "    \n",
    "    komo.addObjective([1.], \n",
    "                      ry.FS.positionDiff, \n",
    "                      [\"R_gripperCenter\", \"object\"], \n",
    "                      ry.OT.eq, \n",
    "                      [1e2])\n",
    "\n",
    "    komo.addObjective([0.7, 1.0], \n",
    "                      ry.FS.positionRel, \n",
    "                      [\"object\", \"R_gripperCenter\"], \n",
    "                      # ry.OT.sos, \n",
    "                      ry.OT.eq,\n",
    "                      [1e2], \n",
    "                      [0,0,-0.1], \n",
    "                      order=2)\n",
    "\n",
    "    komo.addObjective([0.7, 1.], \n",
    "                    ry.FS.scalarProductZZ, \n",
    "                    [\"R_gripperCenter\", \"object\"], \n",
    "                    ry.OT.eq, \n",
    "                    [1e2],\n",
    "                    [0.])\n",
    "elif mode == 1:\n",
    "        komo.addObjective([1, 1.], \n",
    "                    ry.FS.distance, \n",
    "                    [\"R_finger1_coll\", \"object\"], \n",
    "                    ry.OT.eq, \n",
    "                    [1e2],\n",
    "                    [0.])\n",
    "    \n",
    "if collisions:\n",
    "    komo.addObjective([0, 1.], \n",
    "                    ry.FS.distance, \n",
    "                    [\"R_gripper_coll\", \"obstacle\"], \n",
    "                    ry.OT.ineq, \n",
    "                    [1e2],\n",
    "                    [0.])\n",
    "    komo.addObjective([0, 1.], \n",
    "                    ry.FS.distance, \n",
    "                    [\"R_finger1_coll\", \"obstacle\"], \n",
    "                    ry.OT.ineq, \n",
    "                    [1e2],\n",
    "                    [margin])\n",
    "    komo.addObjective([0, 1.], \n",
    "                    ry.FS.distance, \n",
    "                    [\"R_finger2_coll\", \"obstacle\"], \n",
    "                    ry.OT.ineq, \n",
    "                    [1e2],\n",
    "                    [margin])\n",
    "        \n",
    "    komo.addObjective([0, 1.], \n",
    "                    ry.FS.distance, \n",
    "                    [\"R_panda_coll5\", \"obstacle\"], \n",
    "                    ry.OT.ineq, \n",
    "                    [1e2],\n",
    "                    [margin])\n",
    "\n",
    "    komo.addObjective([0, 1.], \n",
    "                    ry.FS.distance, \n",
    "                    [\"R_panda_coll6\", \"obstacle\"], \n",
    "                    ry.OT.ineq, \n",
    "                    [1e2],\n",
    "                    [margin])\n",
    "\n",
    "    komo.addObjective([0, 1.], \n",
    "                    ry.FS.distance, \n",
    "                    [\"R_panda_coll7\", \"obstacle\"], \n",
    "                    ry.OT.ineq, \n",
    "                    [1e2],\n",
    "                    [margin])\n",
    "\n",
    "\n",
    "\n",
    "\n",
    "komo.addObjective([1.], ry.FS.qItself, [], ry.OT.eq, [1e2], order=1)\n",
    "komo.optimize()\n",
    "komo.getReport()"
   ]
  },
  {
   "cell_type": "code",
   "execution_count": 8,
   "metadata": {},
   "outputs": [],
   "source": [
    "V = komo.view_play(True, 0.1)"
   ]
  },
  {
   "cell_type": "code",
   "execution_count": 9,
   "metadata": {},
   "outputs": [],
   "source": [
    "VV = komo.view(True,\"\")"
   ]
  },
  {
   "cell_type": "code",
   "execution_count": 11,
   "metadata": {},
   "outputs": [],
   "source": [
    "V = komo.view_play(True, 0.3)"
   ]
  },
  {
   "cell_type": "code",
   "execution_count": 12,
   "metadata": {},
   "outputs": [
    {
     "name": "stdin",
     "output_type": "stream",
     "text": [
      " \n",
      " \n",
      " \n",
      " \n",
      " \n",
      " \n",
      " \n",
      " \n",
      " \n",
      " \n",
      " \n",
      " \n",
      " \n",
      " \n",
      " \n",
      " \n",
      " \n",
      " \n",
      " \n",
      " \n",
      " \n",
      " \n",
      " \n",
      " \n",
      " \n",
      " \n"
     ]
    },
    {
     "ename": "KeyboardInterrupt",
     "evalue": "Interrupted by user",
     "output_type": "error",
     "traceback": [
      "\u001b[0;31m---------------------------------------------------------------------------\u001b[0m",
      "\u001b[0;31mKeyboardInterrupt\u001b[0m                         Traceback (most recent call last)",
      "Input \u001b[0;32mIn [12]\u001b[0m, in \u001b[0;36m<module>\u001b[0;34m\u001b[0m\n\u001b[1;32m      2\u001b[0m C\u001b[38;5;241m.\u001b[39msetFrameState(komo\u001b[38;5;241m.\u001b[39mgetFrameState(i))\n\u001b[1;32m      3\u001b[0m D \u001b[38;5;241m=\u001b[39m C\u001b[38;5;241m.\u001b[39mview()\n\u001b[0;32m----> 4\u001b[0m \u001b[38;5;28;43minput\u001b[39;49m\u001b[43m(\u001b[49m\u001b[43m)\u001b[49m\n",
      "File \u001b[0;32m~/robotics/lib/python3.8/site-packages/ipykernel/kernelbase.py:1161\u001b[0m, in \u001b[0;36mKernel.raw_input\u001b[0;34m(self, prompt)\u001b[0m\n\u001b[1;32m   1157\u001b[0m \u001b[38;5;28;01mif\u001b[39;00m \u001b[38;5;129;01mnot\u001b[39;00m \u001b[38;5;28mself\u001b[39m\u001b[38;5;241m.\u001b[39m_allow_stdin:\n\u001b[1;32m   1158\u001b[0m     \u001b[38;5;28;01mraise\u001b[39;00m StdinNotImplementedError(\n\u001b[1;32m   1159\u001b[0m         \u001b[38;5;124m\"\u001b[39m\u001b[38;5;124mraw_input was called, but this frontend does not support input requests.\u001b[39m\u001b[38;5;124m\"\u001b[39m\n\u001b[1;32m   1160\u001b[0m     )\n\u001b[0;32m-> 1161\u001b[0m \u001b[38;5;28;01mreturn\u001b[39;00m \u001b[38;5;28;43mself\u001b[39;49m\u001b[38;5;241;43m.\u001b[39;49m\u001b[43m_input_request\u001b[49m\u001b[43m(\u001b[49m\n\u001b[1;32m   1162\u001b[0m \u001b[43m    \u001b[49m\u001b[38;5;28;43mstr\u001b[39;49m\u001b[43m(\u001b[49m\u001b[43mprompt\u001b[49m\u001b[43m)\u001b[49m\u001b[43m,\u001b[49m\n\u001b[1;32m   1163\u001b[0m \u001b[43m    \u001b[49m\u001b[38;5;28;43mself\u001b[39;49m\u001b[38;5;241;43m.\u001b[39;49m\u001b[43m_parent_ident\u001b[49m\u001b[43m[\u001b[49m\u001b[38;5;124;43m\"\u001b[39;49m\u001b[38;5;124;43mshell\u001b[39;49m\u001b[38;5;124;43m\"\u001b[39;49m\u001b[43m]\u001b[49m\u001b[43m,\u001b[49m\n\u001b[1;32m   1164\u001b[0m \u001b[43m    \u001b[49m\u001b[38;5;28;43mself\u001b[39;49m\u001b[38;5;241;43m.\u001b[39;49m\u001b[43mget_parent\u001b[49m\u001b[43m(\u001b[49m\u001b[38;5;124;43m\"\u001b[39;49m\u001b[38;5;124;43mshell\u001b[39;49m\u001b[38;5;124;43m\"\u001b[39;49m\u001b[43m)\u001b[49m\u001b[43m,\u001b[49m\n\u001b[1;32m   1165\u001b[0m \u001b[43m    \u001b[49m\u001b[43mpassword\u001b[49m\u001b[38;5;241;43m=\u001b[39;49m\u001b[38;5;28;43;01mFalse\u001b[39;49;00m\u001b[43m,\u001b[49m\n\u001b[1;32m   1166\u001b[0m \u001b[43m\u001b[49m\u001b[43m)\u001b[49m\n",
      "File \u001b[0;32m~/robotics/lib/python3.8/site-packages/ipykernel/kernelbase.py:1205\u001b[0m, in \u001b[0;36mKernel._input_request\u001b[0;34m(self, prompt, ident, parent, password)\u001b[0m\n\u001b[1;32m   1202\u001b[0m             \u001b[38;5;28;01mbreak\u001b[39;00m\n\u001b[1;32m   1203\u001b[0m \u001b[38;5;28;01mexcept\u001b[39;00m \u001b[38;5;167;01mKeyboardInterrupt\u001b[39;00m:\n\u001b[1;32m   1204\u001b[0m     \u001b[38;5;66;03m# re-raise KeyboardInterrupt, to truncate traceback\u001b[39;00m\n\u001b[0;32m-> 1205\u001b[0m     \u001b[38;5;28;01mraise\u001b[39;00m \u001b[38;5;167;01mKeyboardInterrupt\u001b[39;00m(\u001b[38;5;124m\"\u001b[39m\u001b[38;5;124mInterrupted by user\u001b[39m\u001b[38;5;124m\"\u001b[39m) \u001b[38;5;28;01mfrom\u001b[39;00m \u001b[38;5;28mNone\u001b[39m\n\u001b[1;32m   1206\u001b[0m \u001b[38;5;28;01mexcept\u001b[39;00m \u001b[38;5;167;01mException\u001b[39;00m:\n\u001b[1;32m   1207\u001b[0m     \u001b[38;5;28mself\u001b[39m\u001b[38;5;241m.\u001b[39mlog\u001b[38;5;241m.\u001b[39mwarning(\u001b[38;5;124m\"\u001b[39m\u001b[38;5;124mInvalid Message:\u001b[39m\u001b[38;5;124m\"\u001b[39m, exc_info\u001b[38;5;241m=\u001b[39m\u001b[38;5;28;01mTrue\u001b[39;00m)\n",
      "\u001b[0;31mKeyboardInterrupt\u001b[0m: Interrupted by user"
     ]
    }
   ],
   "source": [
    "for i in range(40):\n",
    "    C.setFrameState(komo.getFrameState(i))\n",
    "    D = C.view()\n",
    "    input()\n"
   ]
  },
  {
   "cell_type": "code",
   "execution_count": null,
   "metadata": {},
   "outputs": [],
   "source": []
  }
 ],
 "metadata": {
  "kernelspec": {
   "display_name": "Python 3 (ipykernel)",
   "language": "python",
   "name": "python3"
  },
  "language_info": {
   "codemirror_mode": {
    "name": "ipython",
    "version": 3
   },
   "file_extension": ".py",
   "mimetype": "text/x-python",
   "name": "python",
   "nbconvert_exporter": "python",
   "pygments_lexer": "ipython3",
   "version": "3.8.10"
  }
 },
 "nbformat": 4,
 "nbformat_minor": 4
}
